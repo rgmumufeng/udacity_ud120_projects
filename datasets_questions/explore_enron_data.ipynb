{
 "cells": [
  {
   "cell_type": "code",
   "execution_count": 114,
   "metadata": {
    "collapsed": true
   },
   "outputs": [],
   "source": [
    "from pprint import pprint"
   ]
  },
  {
   "cell_type": "code",
   "execution_count": 115,
   "metadata": {
    "collapsed": true
   },
   "outputs": [],
   "source": [
    "import pickle\n",
    "\n",
    "enron_data = pickle.load(open(\"../final_project/final_project_dataset.pkl\", \"r\"))"
   ]
  },
  {
   "cell_type": "code",
   "execution_count": 116,
   "metadata": {
    "collapsed": false
   },
   "outputs": [
    {
     "name": "stdout",
     "output_type": "stream",
     "text": [
      "146\n"
     ]
    }
   ],
   "source": [
    "print len(enron_data)"
   ]
  },
  {
   "cell_type": "code",
   "execution_count": 117,
   "metadata": {
    "collapsed": false
   },
   "outputs": [
    {
     "name": "stdout",
     "output_type": "stream",
     "text": [
      "21\n"
     ]
    }
   ],
   "source": [
    "features = enron_data[enron_data.keys()[0]]\n",
    "print len(features)"
   ]
  },
  {
   "cell_type": "code",
   "execution_count": 118,
   "metadata": {
    "collapsed": false
   },
   "outputs": [
    {
     "data": {
      "text/plain": [
       "18"
      ]
     },
     "execution_count": 118,
     "metadata": {},
     "output_type": "execute_result"
    }
   ],
   "source": [
    "import pandas as pd\n",
    "df = pd.DataFrame.from_dict(enron_data, orient='index')\n",
    "df.poi.sum()\n"
   ]
  },
  {
   "cell_type": "code",
   "execution_count": 119,
   "metadata": {
    "collapsed": false
   },
   "outputs": [
    {
     "data": {
      "text/plain": [
       "(35, 3)"
      ]
     },
     "execution_count": 119,
     "metadata": {},
     "output_type": "execute_result"
    }
   ],
   "source": [
    "filepath = '../final_project/poi_names.txt'\n",
    "df = pd.read_table(filepath, skiprows=1, sep=' ', names=['if_have_data', 'family_name', 'first_name'])\n",
    "\n",
    "import string\n",
    "df = df.applymap(lambda x: x.translate(None, string.punctuation))\n",
    "df.shape\n"
   ]
  },
  {
   "cell_type": "code",
   "execution_count": 120,
   "metadata": {
    "collapsed": false
   },
   "outputs": [
    {
     "data": {
      "text/plain": [
       "1095040"
      ]
     },
     "execution_count": 120,
     "metadata": {},
     "output_type": "execute_result"
    }
   ],
   "source": [
    "enron_data['PRENTICE JAMES']['total_stock_value']"
   ]
  },
  {
   "cell_type": "code",
   "execution_count": 121,
   "metadata": {
    "collapsed": false
   },
   "outputs": [
    {
     "data": {
      "text/plain": [
       "11"
      ]
     },
     "execution_count": 121,
     "metadata": {},
     "output_type": "execute_result"
    }
   ],
   "source": [
    "enron_data['COLWELL WESLEY']['from_this_person_to_poi']"
   ]
  },
  {
   "cell_type": "code",
   "execution_count": 122,
   "metadata": {
    "collapsed": false
   },
   "outputs": [
    {
     "data": {
      "text/plain": [
       "19250000"
      ]
     },
     "execution_count": 122,
     "metadata": {},
     "output_type": "execute_result"
    }
   ],
   "source": [
    "enron_data['SKILLING JEFFREY K']['exercised_stock_options']"
   ]
  },
  {
   "cell_type": "code",
   "execution_count": 123,
   "metadata": {
    "collapsed": false
   },
   "outputs": [
    {
     "name": "stdout",
     "output_type": "stream",
     "text": [
      "LAY KENNETH L SKILLING JEFFREY K FASTOW ANDREW S\n",
      "[103559793, 8682716, 2424083] 103559793\n"
     ]
    }
   ],
   "source": [
    "for k in enron_data:\n",
    "    if k.find('LAY') != -1:\n",
    "        lay = k\n",
    "    elif k.find('SKILLING') != -1:\n",
    "        skilling = k\n",
    "    elif k.find('FASTOW') != -1:\n",
    "        fastow = k\n",
    "print lay, skilling, fastow\n",
    "total_payments = [enron_data[x]['total_payments'] for x in [lay, skilling, fastow]]\n",
    "print total_payments, max(total_payments)"
   ]
  },
  {
   "cell_type": "code",
   "execution_count": 124,
   "metadata": {
    "collapsed": false
   },
   "outputs": [
    {
     "name": "stdout",
     "output_type": "stream",
     "text": [
      "['salary', 'to_messages', 'deferral_payments', 'total_payments', 'exercised_stock_options', 'bonus', 'restricted_stock', 'shared_receipt_with_poi', 'restricted_stock_deferred', 'total_stock_value', 'expenses', 'loan_advances', 'from_messages', 'other', 'from_this_person_to_poi', 'poi', 'director_fees', 'deferred_income', 'long_term_incentive', 'email_address', 'from_poi_to_this_person']\n",
      "95 111\n"
     ]
    }
   ],
   "source": [
    "print enron_data[lay].keys()\n",
    "c_salaries = 0\n",
    "c_known_emails = 0\n",
    "for k in enron_data:\n",
    "    if enron_data[k]['salary'] != 'NaN':\n",
    "        c_salaries += 1\n",
    "    if enron_data[k]['email_address'] != 'NaN':\n",
    "        c_known_emails += 1\n",
    "print c_salaries, c_known_emails"
   ]
  },
  {
   "cell_type": "code",
   "execution_count": 132,
   "metadata": {
    "collapsed": false
   },
   "outputs": [
    {
     "name": "stdout",
     "output_type": "stream",
     "text": [
      "21 146 0.143835616438\n"
     ]
    }
   ],
   "source": [
    "c_nan_totpay = 0\n",
    "for k in enron_data:\n",
    "    if enron_data[k]['total_payments'] == 'NaN':\n",
    "        c_nan_totpay += 1\n",
    "print c_nan_totpay, len(enron_data), float(c_totpay)/float(len(enron_data))\n",
    "\n"
   ]
  },
  {
   "cell_type": "code",
   "execution_count": 129,
   "metadata": {
    "collapsed": false
   },
   "outputs": [
    {
     "name": "stdout",
     "output_type": "stream",
     "text": [
      "18 0 0.0\n"
     ]
    }
   ],
   "source": [
    "c_poi = 0\n",
    "c_poi_nan_totpay = 0\n",
    "for k in enron_data:\n",
    "    if enron_data[k]['poi']:\n",
    "        c_poi += 1\n",
    "        if enron_data[k]['total_payments']== 'NaN':\n",
    "            c_poi_nan_totpay += 1\n",
    "print c_poi, c_poi_nan_totpay, float(c_poi_nan_totpay)/float(c_poi)\n",
    "\n"
   ]
  },
  {
   "cell_type": "code",
   "execution_count": 135,
   "metadata": {
    "collapsed": false
   },
   "outputs": [
    {
     "name": "stdout",
     "output_type": "stream",
     "text": [
      "156\n",
      "31\n",
      "28\n"
     ]
    }
   ],
   "source": [
    "print len(enron_data)+10\n",
    "print c_nan_totpay+10\n",
    "print c_poi+10"
   ]
  }
 ],
 "metadata": {
  "kernelspec": {
   "display_name": "Python 2",
   "language": "python",
   "name": "python2"
  },
  "language_info": {
   "codemirror_mode": {
    "name": "ipython",
    "version": 2
   },
   "file_extension": ".py",
   "mimetype": "text/x-python",
   "name": "python",
   "nbconvert_exporter": "python",
   "pygments_lexer": "ipython2",
   "version": "2.7.8"
  }
 },
 "nbformat": 4,
 "nbformat_minor": 0
}
